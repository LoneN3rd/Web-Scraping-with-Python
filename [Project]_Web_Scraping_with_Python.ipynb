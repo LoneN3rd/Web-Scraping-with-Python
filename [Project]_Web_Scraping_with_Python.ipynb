{
  "nbformat": 4,
  "nbformat_minor": 0,
  "metadata": {
    "colab": {
      "name": "[Project]: Web Scraping with Python",
      "provenance": [],
      "collapsed_sections": [],
      "toc_visible": true
    },
    "kernelspec": {
      "name": "python3",
      "display_name": "Python 3"
    }
  },
  "cells": [
    {
      "cell_type": "markdown",
      "metadata": {
        "id": "0rOdcI2Nzhky"
      },
      "source": [
        "# Web Scraping with Python"
      ]
    },
    {
      "cell_type": "markdown",
      "metadata": {
        "id": "Tcso2rJCNAGq"
      },
      "source": [
        "## Import libraries"
      ]
    },
    {
      "cell_type": "code",
      "metadata": {
        "id": "QSHljMZTNCRI"
      },
      "source": [
        "import pandas as pd # library for data manupation\n",
        "import requests  # library for fetching a web page \n",
        "from bs4 import BeautifulSoup  # library for extrating contents from a webpage\n",
        "import re"
      ],
      "execution_count": 42,
      "outputs": []
    },
    {
      "cell_type": "markdown",
      "metadata": {
        "id": "CRmt1rRHgZRG"
      },
      "source": [
        "## Step 1: Obtaining Data"
      ]
    },
    {
      "cell_type": "markdown",
      "source": [
        "#### PigiaMe data"
      ],
      "metadata": {
        "id": "SXCGKZGviccw"
      }
    },
    {
      "cell_type": "code",
      "metadata": {
        "id": "cM5TKD-P1h7Z",
        "colab": {
          "base_uri": "https://localhost:8080/"
        },
        "outputId": "42af746b-48e5-4090-9b77-780329ab1b52"
      },
      "source": [
        "pigia_me = requests.get('https://www.pigiame.co.ke/it-software-jobs')\n",
        "pigia_me"
      ],
      "execution_count": 2,
      "outputs": [
        {
          "output_type": "execute_result",
          "data": {
            "text/plain": [
              "<Response [200]>"
            ]
          },
          "metadata": {},
          "execution_count": 2
        }
      ]
    },
    {
      "cell_type": "markdown",
      "source": [
        "#### MyJobMag data"
      ],
      "metadata": {
        "id": "sW2j3LJiih6v"
      }
    },
    {
      "cell_type": "code",
      "metadata": {
        "id": "OfUvfxrD1nQC",
        "colab": {
          "base_uri": "https://localhost:8080/"
        },
        "outputId": "2aa07356-2f8f-4ece-cb27-5fbfb164a971"
      },
      "source": [
        "my_job_mag = requests.get('https://www.myjobmag.co.ke/jobs-by-field/information-technology')\n",
        "my_job_mag"
      ],
      "execution_count": 4,
      "outputs": [
        {
          "output_type": "execute_result",
          "data": {
            "text/plain": [
              "<Response [200]>"
            ]
          },
          "metadata": {},
          "execution_count": 4
        }
      ]
    },
    {
      "cell_type": "markdown",
      "source": [
        "#### KenyanJob data"
      ],
      "metadata": {
        "id": "aWpxkbe7i94s"
      }
    },
    {
      "cell_type": "code",
      "metadata": {
        "id": "psWrYhRUQDJC",
        "colab": {
          "base_uri": "https://localhost:8080/"
        },
        "outputId": "12661bba-327d-49fa-9f7f-77a9f5e8811f"
      },
      "source": [
        "kenyan_job = requests.get('https://www.kenyajob.com/job-vacancies-search-kenya?f%5B0%5D=im_field_offre_secteur%3A133')\n",
        "kenyan_job"
      ],
      "execution_count": 5,
      "outputs": [
        {
          "output_type": "execute_result",
          "data": {
            "text/plain": [
              "<Response [200]>"
            ]
          },
          "metadata": {},
          "execution_count": 5
        }
      ]
    },
    {
      "cell_type": "markdown",
      "metadata": {
        "id": "h7iRb8U8hHNw"
      },
      "source": [
        "## Step 2: Parsing"
      ]
    },
    {
      "cell_type": "markdown",
      "source": [
        "#### Parsing our document: pigia_me"
      ],
      "metadata": {
        "id": "4oRsWBpijLQq"
      }
    },
    {
      "cell_type": "code",
      "metadata": {
        "id": "AXWSK1kD2oeN"
      },
      "source": [
        "pigia_me_soup_doc = BeautifulSoup(pigia_me.text, \"html.parser\")"
      ],
      "execution_count": 39,
      "outputs": []
    },
    {
      "cell_type": "markdown",
      "source": [
        "#### Parsing our document: my_job_mag"
      ],
      "metadata": {
        "id": "4iOf0pjmjVwx"
      }
    },
    {
      "cell_type": "code",
      "metadata": {
        "id": "lrH9mgR82pzg"
      },
      "source": [
        "my_job_mag_soup_doc = BeautifulSoup(my_job_mag.text, \"html.parser\")"
      ],
      "execution_count": 40,
      "outputs": []
    },
    {
      "cell_type": "markdown",
      "source": [
        "#### Parsing our document: kenyan_job"
      ],
      "metadata": {
        "id": "HmAeO3QHjiuS"
      }
    },
    {
      "cell_type": "code",
      "metadata": {
        "id": "O0x-Wz03QP5O"
      },
      "source": [
        "kenyan_job_soup_doc = BeautifulSoup(kenyan_job.text, \"html.parser\")"
      ],
      "execution_count": 41,
      "outputs": []
    },
    {
      "cell_type": "markdown",
      "metadata": {
        "id": "_OxuOAIXhPl5"
      },
      "source": [
        "## Step 3: Extracting Required Elements"
      ]
    },
    {
      "cell_type": "markdown",
      "source": [
        "#### 1) Extracting job titles and links ; pigia me"
      ],
      "metadata": {
        "id": "_wft7JRrjz42"
      }
    },
    {
      "cell_type": "markdown",
      "source": [
        "Extract job titles"
      ],
      "metadata": {
        "id": "5dGWpTWLkrfq"
      }
    },
    {
      "cell_type": "code",
      "metadata": {
        "id": "e2p147_LICKn",
        "colab": {
          "base_uri": "https://localhost:8080/"
        },
        "outputId": "ac555652-4c2f-4227-eb43-f726961def81"
      },
      "source": [
        "pigia_me_results = pigia_me_soup_doc.find_all('div',attrs={'class':'listing-card__header__title'})\n",
        "pigia_me_results"
      ],
      "execution_count": 21,
      "outputs": [
        {
          "output_type": "execute_result",
          "data": {
            "text/plain": [
              "[<div class=\"listing-card__header__title\">\n",
              " Front-End Web Developer\n",
              " </div>, <div class=\"listing-card__header__title\">\n",
              " ICT Software Developer\n",
              " </div>, <div class=\"listing-card__header__title\">\n",
              " Scrum Master\n",
              " </div>, <div class=\"listing-card__header__title\">\n",
              " Senior Software Engineer – Integration Services\n",
              " </div>, <div class=\"listing-card__header__title\">\n",
              " DHIS2 Developer\n",
              " </div>, <div class=\"listing-card__header__title\">\n",
              " M-Pesa Africa – Scrum Master - Compliance\n",
              " </div>, <div class=\"listing-card__header__title\">\n",
              " Mobile App Developer (Android &amp; iOS)\n",
              " </div>, <div class=\"listing-card__header__title\">\n",
              " IT AND SOFTWARE\n",
              " </div>, <div class=\"listing-card__header__title\">\n",
              " Freedom Project 01\n",
              " </div>, <div class=\"listing-card__header__title\">\n",
              " Senior Software Engineer\n",
              " </div>]"
            ]
          },
          "metadata": {},
          "execution_count": 21
        }
      ]
    },
    {
      "cell_type": "markdown",
      "source": [
        "Strip tags"
      ],
      "metadata": {
        "id": "KDuW67pLj9RN"
      }
    },
    {
      "cell_type": "code",
      "source": [
        "pigia_me_results = [tag.get_text().strip()for tag in pigia_me_results]\n",
        "pigia_me_results"
      ],
      "metadata": {
        "colab": {
          "base_uri": "https://localhost:8080/"
        },
        "id": "Hb8Kdo_jj_pw",
        "outputId": "f53d5781-62de-4eb0-db21-73d39970b396"
      },
      "execution_count": 23,
      "outputs": [
        {
          "output_type": "execute_result",
          "data": {
            "text/plain": [
              "['Front-End Web Developer',\n",
              " 'ICT Software Developer',\n",
              " 'Scrum Master',\n",
              " 'Senior Software Engineer – Integration Services',\n",
              " 'DHIS2 Developer',\n",
              " 'M-Pesa Africa – Scrum Master - Compliance',\n",
              " 'Mobile App Developer (Android & iOS)',\n",
              " 'IT AND SOFTWARE',\n",
              " 'Freedom Project 01',\n",
              " 'Senior Software Engineer']"
            ]
          },
          "metadata": {},
          "execution_count": 23
        }
      ]
    },
    {
      "cell_type": "markdown",
      "source": [
        "Extract job links"
      ],
      "metadata": {
        "id": "1IQr3TmckvrQ"
      }
    },
    {
      "cell_type": "code",
      "source": [
        "for link in pigia_me_soup_doc.find_all('a', attrs={'href': re.compile(\"^https://www.pigiame.co.ke/listing\")}):\n",
        "  # print the urls\n",
        "  print(link.get('href')) "
      ],
      "metadata": {
        "colab": {
          "base_uri": "https://localhost:8080/"
        },
        "id": "ySeZ2i0XkxeW",
        "outputId": "d21e97e8-d8f9-476c-8d27-e3a958c595d7"
      },
      "execution_count": 43,
      "outputs": [
        {
          "output_type": "stream",
          "name": "stdout",
          "text": [
            "https://www.pigiame.co.ke/listings/front-end-web-developer-4155874\n",
            "https://www.pigiame.co.ke/listings/ict-software-developer-4152712\n",
            "https://www.pigiame.co.ke/listings/scrum-master-4151991\n",
            "https://www.pigiame.co.ke/listings/senior-software-engineer-integration-services-4151986\n",
            "https://www.pigiame.co.ke/listings/dhis2-developer-4151468\n",
            "https://www.pigiame.co.ke/listings/m-pesa-africa-scrum-master-compliance-4151255\n",
            "https://www.pigiame.co.ke/listings/mobile-app-developer-android-ios-4146921\n",
            "https://www.pigiame.co.ke/listings/it-and-software-4079363\n",
            "https://www.pigiame.co.ke/listings/freedom-project-01-3976292\n",
            "https://www.pigiame.co.ke/listings/senior-software-engineer-3943753\n"
          ]
        }
      ]
    },
    {
      "cell_type": "markdown",
      "source": [
        "#### 2) Extracting job titles: my_job_mag"
      ],
      "metadata": {
        "id": "KTDCGh1VkTmK"
      }
    },
    {
      "cell_type": "markdown",
      "source": [
        "Extract job titles"
      ],
      "metadata": {
        "id": "0WdQZdi9l1CA"
      }
    },
    {
      "cell_type": "code",
      "metadata": {
        "id": "NNLbrng_3QfA",
        "colab": {
          "base_uri": "https://localhost:8080/"
        },
        "outputId": "6282ce19-785e-4efc-f503-0417aa530e8b"
      },
      "source": [
        "my_job_mag_results = my_job_mag_soup_doc.find_all('h2')\n",
        "my_job_mag_results"
      ],
      "execution_count": 34,
      "outputs": [
        {
          "output_type": "execute_result",
          "data": {
            "text/plain": [
              "[<h2><a href=\"/job/server-and-network-administrator-african-population-and-health-research-center-aphrc\">Server and Network Administrator at African Population And Health Research Center (APHRC)</a></h2>,\n",
              " <h2><a href=\"/job/system-audit-officer-ii-national-transport-and-safety-authority\">System Audit Officer II at National Transport and Safety Authority</a></h2>,\n",
              " <h2><a href=\"/job/graphic-design-consultant-un-women\">Graphic Design Consultant at UN Women</a></h2>,\n",
              " <h2><a href=\"/job/city-launcher-mombasa-glovo\">City Launcher - Mombasa at Glovo</a></h2>,\n",
              " <h2><a href=\"/job/senior-information-systems-assistant-temporary-united-nations-office-at-nairobi-unon\">Senior Information Systems Assistant [temporary] at United Nations Office at Nairobi (UNON)</a></h2>,\n",
              " <h2><a href=\"/job/senior-golang-developer-cloud-integrations-acronis-3\">Senior Golang Developer (Cloud Integrations) at Acronis</a></h2>,\n",
              " <h2><a href=\"/job/graphic-design-trainer-finn-church-aid-fca\">Graphic Design Trainer at Finn Church Aid (FCA)</a></h2>,\n",
              " <h2><a href=\"/job/communications-analyst-international-potato-center\">Communications Analyst at International Potato Center</a></h2>,\n",
              " <h2><a href=\"/job/chief-digital-officer-united-bible-societies-ubs\">Chief Digital Officer at United Nations Environment Programme (UNEP)</a></h2>,\n",
              " <h2><a href=\"/job/information-technology-assistant-temporary-united-nations-office-at-nairobi-unon\">Information Technology Assistant [temporary] at United Nations Office at Nairobi (UNON)</a></h2>,\n",
              " <h2><a href=\"/job/product-manager-bfa-bankable-frontier-associates-1\">Product Manager at BFA (Bankable Frontier Associates)</a></h2>,\n",
              " <h2><a href=\"/job/n-a\">Frontend Developer at Innovex Solutions</a></h2>,\n",
              " <h2><a href=\"/job/it-specialist-the-african-economic-research-consortium-aerc\">IT Specialist at The African Economic Research Consortium (AERC)</a></h2>,\n",
              " <h2><a href=\"/job/software-engineer-python-linux-packaging-canonical-1\">Software Engineer (Python/Linux/Packaging) at Canonical</a></h2>,\n",
              " <h2><a href=\"/job/senior-software-engineer-mongodb-python-canonical-1\">Senior Software Engineer (MongoDB/Python) at Canonical</a></h2>,\n",
              " <h2><a href=\"/job/associate-field-software-engineer-canonical-1\">Associate Field Software Engineer at Canonical</a></h2>,\n",
              " <h2><a href=\"/job/field-software-engineer-canonical-1\">Field Software Engineer at Canonical</a></h2>,\n",
              " <h2><a href=\"/job/senior-quality-assurance-automation-engineer-standard-focus-ltd\">Senior Quality Assurance Automation Engineer at Standard Focus Ltd</a></h2>,\n",
              " <h2 class=\"main-h2\">Subscribe to Job Alert</h2>,\n",
              " <h2>Career Advice</h2>,\n",
              " <h2 class=\"main-h2\">Subscribe to Job Alert</h2>,\n",
              " <h2 class=\"ts-20\">Job Vacancies in ICT / Computer</h2>]"
            ]
          },
          "metadata": {},
          "execution_count": 34
        }
      ]
    },
    {
      "cell_type": "markdown",
      "source": [
        "Strip tags"
      ],
      "metadata": {
        "id": "uLY4ivX0mRu9"
      }
    },
    {
      "cell_type": "code",
      "source": [
        "my_job_mag_results = [tag.get_text().strip()for tag in my_job_mag_results]\n",
        "my_job_mag_results"
      ],
      "metadata": {
        "colab": {
          "base_uri": "https://localhost:8080/"
        },
        "id": "Y0eeMW_XmScc",
        "outputId": "80331873-a6fa-4688-ce66-490e26003a45"
      },
      "execution_count": 35,
      "outputs": [
        {
          "output_type": "execute_result",
          "data": {
            "text/plain": [
              "['Server and Network Administrator at African Population And Health Research Center (APHRC)',\n",
              " 'System Audit Officer II at National Transport and Safety Authority',\n",
              " 'Graphic Design Consultant at UN Women',\n",
              " 'City Launcher - Mombasa at Glovo',\n",
              " 'Senior Information Systems Assistant [temporary] at United Nations Office at Nairobi (UNON)',\n",
              " 'Senior Golang Developer (Cloud Integrations) at Acronis',\n",
              " 'Graphic Design Trainer at Finn Church Aid (FCA)',\n",
              " 'Communications Analyst at International Potato Center',\n",
              " 'Chief Digital Officer at United Nations Environment Programme (UNEP)',\n",
              " 'Information Technology Assistant [temporary] at United Nations Office at Nairobi (UNON)',\n",
              " 'Product Manager at BFA (Bankable Frontier Associates)',\n",
              " 'Frontend Developer at Innovex Solutions',\n",
              " 'IT Specialist at The African Economic Research Consortium (AERC)',\n",
              " 'Software Engineer (Python/Linux/Packaging) at Canonical',\n",
              " 'Senior Software Engineer (MongoDB/Python) at Canonical',\n",
              " 'Associate Field Software Engineer at Canonical',\n",
              " 'Field Software Engineer at Canonical',\n",
              " 'Senior Quality Assurance Automation Engineer at Standard Focus Ltd',\n",
              " 'Subscribe to Job Alert',\n",
              " 'Career Advice',\n",
              " 'Subscribe to Job Alert',\n",
              " 'Job Vacancies in ICT / Computer']"
            ]
          },
          "metadata": {},
          "execution_count": 35
        }
      ]
    },
    {
      "cell_type": "markdown",
      "source": [
        "#### 3) Extracting job titles: kenya_job"
      ],
      "metadata": {
        "id": "Tw-gXxLqnFfg"
      }
    },
    {
      "cell_type": "markdown",
      "source": [
        "Extract job titles"
      ],
      "metadata": {
        "id": "-Sl7spPSnYT9"
      }
    },
    {
      "cell_type": "code",
      "metadata": {
        "id": "I0fQKn63QV0R",
        "colab": {
          "base_uri": "https://localhost:8080/"
        },
        "outputId": "0788fb1d-4fda-4a0b-f19e-0277991fd3c3"
      },
      "source": [
        "kenya_job_results = kenyan_job_soup_doc.find_all('h5')\n",
        "kenya_job_results"
      ],
      "execution_count": 30,
      "outputs": [
        {
          "output_type": "execute_result",
          "data": {
            "text/plain": [
              "[<h5><a href=\"/job-vacancies-kenya/work-home-opportunity-103348\">Work from Home Opportunity</a></h5>,\n",
              " <h5><a href=\"/job-vacancies-kenya/it-project-manager-10392\">IT Project Manager</a></h5>,\n",
              " <h5><a href=\"/job-vacancies-kenya/it-analyst-24531\">IT Analyst</a></h5>,\n",
              " <h5><a href=\"/job-vacancies-kenya/regional-project-lead-vendor-experience-103050\">Regional Project Lead - Vendor Experience</a></h5>,\n",
              " <h5><a href=\"/job-vacancies-kenya/merchant-support-specialist-jumia-pay-full-time-103052\">Merchant Support Specialist - Jumia Pay (Full Time)</a></h5>,\n",
              " <h5><a href=\"/job-vacancies-kenya/head-fulfilment-jumia-full-time-103053\"> Head of Fulfilment - Jumia (Full-time)</a></h5>,\n",
              " <h5><a href=\"/job-vacancies-kenya/regional-growth-hacker-jumia-prime-full-time-103055\">Regional Growth Hacker - Jumia Prime (Full Time)</a></h5>,\n",
              " <h5><a href=\"/job-vacancies-kenya/back-end-developer-88791\">Back End Developer</a></h5>,\n",
              " <h5><a href=\"/job-vacancies-kenya/fullstack-developer-88794\">FullStack Developer</a></h5>,\n",
              " <h5><a href=\"/job-vacancies-kenya/sales-marketing-agent-95496\">Sales and Marketing Agent</a></h5>,\n",
              " <h5><a href=\"/job-vacancies-kenya/company-telephone-receptionist-90793\">Company Telephone Receptionist </a></h5>,\n",
              " <h5><a href=\"/job-vacancies-kenya/drupal-developer-88792\">DRUPAL Developer</a></h5>,\n",
              " <h5><a href=\"/job-vacancies-kenya/front-end-developer-88793\">Front End Developer</a></h5>,\n",
              " <h5><a href=\"/job-vacancies-kenya/javascript-developer-88795\">JavaScript Developer</a></h5>,\n",
              " <h5><a href=\"/job-vacancies-kenya/python-developer-88798\">PYTHON Developer</a></h5>,\n",
              " <h5><a href=\"/job-vacancies-kenya/web-designer-10457\">Web Designer</a></h5>,\n",
              " <h5><a href=\"/job-vacancies-kenya/ux-ui-designer-10458\">UX / UI Designer</a></h5>,\n",
              " <h5><a href=\"/job-vacancies-kenya/artificial-intelligence-engineer-ai-55634\">Artificial Intelligence Engineer – AI </a></h5>,\n",
              " <h5><a href=\"/job-vacancies-kenya/digital-project-manager-57630\">Digital Project Manager</a></h5>,\n",
              " <h5><a href=\"/job-vacancies-kenya/software-engineer-10356\">Software Engineer</a></h5>,\n",
              " <h5><a href=\"/job-vacancies-kenya/net-developer-55184\">.Net Developer</a></h5>,\n",
              " <h5><a href=\"/job-vacancies-kenya/customer-sales-team-leader-nairobi-100975\">Customer Sales Team Leader, Nairobi</a></h5>,\n",
              " <h5><a href=\"/job-vacancies-kenya/agent-expansion-manager-nairobi-100976\">Agent Expansion Manager, Nairobi</a></h5>,\n",
              " <h5><a href=\"/job-vacancies-kenya/warehouse-clerk-100977\">Warehouse Clerk</a></h5>,\n",
              " <h5><a href=\"/job-vacancies-kenya/project-assistant-100980\">Project Assistant</a></h5>]"
            ]
          },
          "metadata": {},
          "execution_count": 30
        }
      ]
    },
    {
      "cell_type": "markdown",
      "source": [
        "Strip tags"
      ],
      "metadata": {
        "id": "fQ26hxOondV1"
      }
    },
    {
      "cell_type": "code",
      "source": [
        "kenya_job_results = [tag.get_text().strip()for tag in kenya_job_results]\n",
        "kenya_job_results"
      ],
      "metadata": {
        "colab": {
          "base_uri": "https://localhost:8080/"
        },
        "id": "Gw6xL6Chnvqb",
        "outputId": "70968146-c9a1-4e13-dbb1-a33126f3494c"
      },
      "execution_count": 31,
      "outputs": [
        {
          "output_type": "execute_result",
          "data": {
            "text/plain": [
              "['Work from Home Opportunity',\n",
              " 'IT Project Manager',\n",
              " 'IT Analyst',\n",
              " 'Regional Project Lead - Vendor Experience',\n",
              " 'Merchant Support Specialist - Jumia Pay (Full Time)',\n",
              " 'Head of Fulfilment - Jumia (Full-time)',\n",
              " 'Regional Growth Hacker - Jumia Prime (Full Time)',\n",
              " 'Back End Developer',\n",
              " 'FullStack Developer',\n",
              " 'Sales and Marketing Agent',\n",
              " 'Company Telephone Receptionist',\n",
              " 'DRUPAL Developer',\n",
              " 'Front End Developer',\n",
              " 'JavaScript Developer',\n",
              " 'PYTHON Developer',\n",
              " 'Web Designer',\n",
              " 'UX / UI Designer',\n",
              " 'Artificial Intelligence Engineer – AI',\n",
              " 'Digital Project Manager',\n",
              " 'Software Engineer',\n",
              " '.Net Developer',\n",
              " 'Customer Sales Team Leader, Nairobi',\n",
              " 'Agent Expansion Manager, Nairobi',\n",
              " 'Warehouse Clerk',\n",
              " 'Project Assistant']"
            ]
          },
          "metadata": {},
          "execution_count": 31
        }
      ]
    },
    {
      "cell_type": "markdown",
      "metadata": {
        "id": "7ePXABAihaKn"
      },
      "source": [
        "## Step 4: Saving the data to dataframes"
      ]
    },
    {
      "cell_type": "code",
      "metadata": {
        "id": "fsG9pQXk5f8y",
        "colab": {
          "base_uri": "https://localhost:8080/",
          "height": 206
        },
        "outputId": "30ee6bde-7947-482c-9d84-93e5e907e13a"
      },
      "source": [
        "pigia_me_df = pd.DataFrame({\"title\":pigia_me_results})\n",
        "pigia_me_df.head()"
      ],
      "execution_count": 36,
      "outputs": [
        {
          "output_type": "execute_result",
          "data": {
            "text/plain": [
              "                                             title\n",
              "0                          Front-End Web Developer\n",
              "1                           ICT Software Developer\n",
              "2                                     Scrum Master\n",
              "3  Senior Software Engineer – Integration Services\n",
              "4                                  DHIS2 Developer"
            ],
            "text/html": [
              "\n",
              "  <div id=\"df-6a5030b2-46b0-4b95-9403-579f5436aead\">\n",
              "    <div class=\"colab-df-container\">\n",
              "      <div>\n",
              "<style scoped>\n",
              "    .dataframe tbody tr th:only-of-type {\n",
              "        vertical-align: middle;\n",
              "    }\n",
              "\n",
              "    .dataframe tbody tr th {\n",
              "        vertical-align: top;\n",
              "    }\n",
              "\n",
              "    .dataframe thead th {\n",
              "        text-align: right;\n",
              "    }\n",
              "</style>\n",
              "<table border=\"1\" class=\"dataframe\">\n",
              "  <thead>\n",
              "    <tr style=\"text-align: right;\">\n",
              "      <th></th>\n",
              "      <th>title</th>\n",
              "    </tr>\n",
              "  </thead>\n",
              "  <tbody>\n",
              "    <tr>\n",
              "      <th>0</th>\n",
              "      <td>Front-End Web Developer</td>\n",
              "    </tr>\n",
              "    <tr>\n",
              "      <th>1</th>\n",
              "      <td>ICT Software Developer</td>\n",
              "    </tr>\n",
              "    <tr>\n",
              "      <th>2</th>\n",
              "      <td>Scrum Master</td>\n",
              "    </tr>\n",
              "    <tr>\n",
              "      <th>3</th>\n",
              "      <td>Senior Software Engineer – Integration Services</td>\n",
              "    </tr>\n",
              "    <tr>\n",
              "      <th>4</th>\n",
              "      <td>DHIS2 Developer</td>\n",
              "    </tr>\n",
              "  </tbody>\n",
              "</table>\n",
              "</div>\n",
              "      <button class=\"colab-df-convert\" onclick=\"convertToInteractive('df-6a5030b2-46b0-4b95-9403-579f5436aead')\"\n",
              "              title=\"Convert this dataframe to an interactive table.\"\n",
              "              style=\"display:none;\">\n",
              "        \n",
              "  <svg xmlns=\"http://www.w3.org/2000/svg\" height=\"24px\"viewBox=\"0 0 24 24\"\n",
              "       width=\"24px\">\n",
              "    <path d=\"M0 0h24v24H0V0z\" fill=\"none\"/>\n",
              "    <path d=\"M18.56 5.44l.94 2.06.94-2.06 2.06-.94-2.06-.94-.94-2.06-.94 2.06-2.06.94zm-11 1L8.5 8.5l.94-2.06 2.06-.94-2.06-.94L8.5 2.5l-.94 2.06-2.06.94zm10 10l.94 2.06.94-2.06 2.06-.94-2.06-.94-.94-2.06-.94 2.06-2.06.94z\"/><path d=\"M17.41 7.96l-1.37-1.37c-.4-.4-.92-.59-1.43-.59-.52 0-1.04.2-1.43.59L10.3 9.45l-7.72 7.72c-.78.78-.78 2.05 0 2.83L4 21.41c.39.39.9.59 1.41.59.51 0 1.02-.2 1.41-.59l7.78-7.78 2.81-2.81c.8-.78.8-2.07 0-2.86zM5.41 20L4 18.59l7.72-7.72 1.47 1.35L5.41 20z\"/>\n",
              "  </svg>\n",
              "      </button>\n",
              "      \n",
              "  <style>\n",
              "    .colab-df-container {\n",
              "      display:flex;\n",
              "      flex-wrap:wrap;\n",
              "      gap: 12px;\n",
              "    }\n",
              "\n",
              "    .colab-df-convert {\n",
              "      background-color: #E8F0FE;\n",
              "      border: none;\n",
              "      border-radius: 50%;\n",
              "      cursor: pointer;\n",
              "      display: none;\n",
              "      fill: #1967D2;\n",
              "      height: 32px;\n",
              "      padding: 0 0 0 0;\n",
              "      width: 32px;\n",
              "    }\n",
              "\n",
              "    .colab-df-convert:hover {\n",
              "      background-color: #E2EBFA;\n",
              "      box-shadow: 0px 1px 2px rgba(60, 64, 67, 0.3), 0px 1px 3px 1px rgba(60, 64, 67, 0.15);\n",
              "      fill: #174EA6;\n",
              "    }\n",
              "\n",
              "    [theme=dark] .colab-df-convert {\n",
              "      background-color: #3B4455;\n",
              "      fill: #D2E3FC;\n",
              "    }\n",
              "\n",
              "    [theme=dark] .colab-df-convert:hover {\n",
              "      background-color: #434B5C;\n",
              "      box-shadow: 0px 1px 3px 1px rgba(0, 0, 0, 0.15);\n",
              "      filter: drop-shadow(0px 1px 2px rgba(0, 0, 0, 0.3));\n",
              "      fill: #FFFFFF;\n",
              "    }\n",
              "  </style>\n",
              "\n",
              "      <script>\n",
              "        const buttonEl =\n",
              "          document.querySelector('#df-6a5030b2-46b0-4b95-9403-579f5436aead button.colab-df-convert');\n",
              "        buttonEl.style.display =\n",
              "          google.colab.kernel.accessAllowed ? 'block' : 'none';\n",
              "\n",
              "        async function convertToInteractive(key) {\n",
              "          const element = document.querySelector('#df-6a5030b2-46b0-4b95-9403-579f5436aead');\n",
              "          const dataTable =\n",
              "            await google.colab.kernel.invokeFunction('convertToInteractive',\n",
              "                                                     [key], {});\n",
              "          if (!dataTable) return;\n",
              "\n",
              "          const docLinkHtml = 'Like what you see? Visit the ' +\n",
              "            '<a target=\"_blank\" href=https://colab.research.google.com/notebooks/data_table.ipynb>data table notebook</a>'\n",
              "            + ' to learn more about interactive tables.';\n",
              "          element.innerHTML = '';\n",
              "          dataTable['output_type'] = 'display_data';\n",
              "          await google.colab.output.renderOutput(dataTable, element);\n",
              "          const docLink = document.createElement('div');\n",
              "          docLink.innerHTML = docLinkHtml;\n",
              "          element.appendChild(docLink);\n",
              "        }\n",
              "      </script>\n",
              "    </div>\n",
              "  </div>\n",
              "  "
            ]
          },
          "metadata": {},
          "execution_count": 36
        }
      ]
    },
    {
      "cell_type": "code",
      "source": [
        "my_job_mag_df = pd.DataFrame({\"title\":my_job_mag_results})\n",
        "my_job_mag_df.head()"
      ],
      "metadata": {
        "colab": {
          "base_uri": "https://localhost:8080/",
          "height": 206
        },
        "id": "mVzRv86roLKy",
        "outputId": "dadd1b2f-81bb-4bc8-f511-8b09d0e283be"
      },
      "execution_count": 37,
      "outputs": [
        {
          "output_type": "execute_result",
          "data": {
            "text/plain": [
              "                                               title\n",
              "0  Server and Network Administrator at African Po...\n",
              "1  System Audit Officer II at National Transport ...\n",
              "2              Graphic Design Consultant at UN Women\n",
              "3                   City Launcher - Mombasa at Glovo\n",
              "4  Senior Information Systems Assistant [temporar..."
            ],
            "text/html": [
              "\n",
              "  <div id=\"df-5c667f40-128d-4ae6-abf0-f95cbffcbae5\">\n",
              "    <div class=\"colab-df-container\">\n",
              "      <div>\n",
              "<style scoped>\n",
              "    .dataframe tbody tr th:only-of-type {\n",
              "        vertical-align: middle;\n",
              "    }\n",
              "\n",
              "    .dataframe tbody tr th {\n",
              "        vertical-align: top;\n",
              "    }\n",
              "\n",
              "    .dataframe thead th {\n",
              "        text-align: right;\n",
              "    }\n",
              "</style>\n",
              "<table border=\"1\" class=\"dataframe\">\n",
              "  <thead>\n",
              "    <tr style=\"text-align: right;\">\n",
              "      <th></th>\n",
              "      <th>title</th>\n",
              "    </tr>\n",
              "  </thead>\n",
              "  <tbody>\n",
              "    <tr>\n",
              "      <th>0</th>\n",
              "      <td>Server and Network Administrator at African Po...</td>\n",
              "    </tr>\n",
              "    <tr>\n",
              "      <th>1</th>\n",
              "      <td>System Audit Officer II at National Transport ...</td>\n",
              "    </tr>\n",
              "    <tr>\n",
              "      <th>2</th>\n",
              "      <td>Graphic Design Consultant at UN Women</td>\n",
              "    </tr>\n",
              "    <tr>\n",
              "      <th>3</th>\n",
              "      <td>City Launcher - Mombasa at Glovo</td>\n",
              "    </tr>\n",
              "    <tr>\n",
              "      <th>4</th>\n",
              "      <td>Senior Information Systems Assistant [temporar...</td>\n",
              "    </tr>\n",
              "  </tbody>\n",
              "</table>\n",
              "</div>\n",
              "      <button class=\"colab-df-convert\" onclick=\"convertToInteractive('df-5c667f40-128d-4ae6-abf0-f95cbffcbae5')\"\n",
              "              title=\"Convert this dataframe to an interactive table.\"\n",
              "              style=\"display:none;\">\n",
              "        \n",
              "  <svg xmlns=\"http://www.w3.org/2000/svg\" height=\"24px\"viewBox=\"0 0 24 24\"\n",
              "       width=\"24px\">\n",
              "    <path d=\"M0 0h24v24H0V0z\" fill=\"none\"/>\n",
              "    <path d=\"M18.56 5.44l.94 2.06.94-2.06 2.06-.94-2.06-.94-.94-2.06-.94 2.06-2.06.94zm-11 1L8.5 8.5l.94-2.06 2.06-.94-2.06-.94L8.5 2.5l-.94 2.06-2.06.94zm10 10l.94 2.06.94-2.06 2.06-.94-2.06-.94-.94-2.06-.94 2.06-2.06.94z\"/><path d=\"M17.41 7.96l-1.37-1.37c-.4-.4-.92-.59-1.43-.59-.52 0-1.04.2-1.43.59L10.3 9.45l-7.72 7.72c-.78.78-.78 2.05 0 2.83L4 21.41c.39.39.9.59 1.41.59.51 0 1.02-.2 1.41-.59l7.78-7.78 2.81-2.81c.8-.78.8-2.07 0-2.86zM5.41 20L4 18.59l7.72-7.72 1.47 1.35L5.41 20z\"/>\n",
              "  </svg>\n",
              "      </button>\n",
              "      \n",
              "  <style>\n",
              "    .colab-df-container {\n",
              "      display:flex;\n",
              "      flex-wrap:wrap;\n",
              "      gap: 12px;\n",
              "    }\n",
              "\n",
              "    .colab-df-convert {\n",
              "      background-color: #E8F0FE;\n",
              "      border: none;\n",
              "      border-radius: 50%;\n",
              "      cursor: pointer;\n",
              "      display: none;\n",
              "      fill: #1967D2;\n",
              "      height: 32px;\n",
              "      padding: 0 0 0 0;\n",
              "      width: 32px;\n",
              "    }\n",
              "\n",
              "    .colab-df-convert:hover {\n",
              "      background-color: #E2EBFA;\n",
              "      box-shadow: 0px 1px 2px rgba(60, 64, 67, 0.3), 0px 1px 3px 1px rgba(60, 64, 67, 0.15);\n",
              "      fill: #174EA6;\n",
              "    }\n",
              "\n",
              "    [theme=dark] .colab-df-convert {\n",
              "      background-color: #3B4455;\n",
              "      fill: #D2E3FC;\n",
              "    }\n",
              "\n",
              "    [theme=dark] .colab-df-convert:hover {\n",
              "      background-color: #434B5C;\n",
              "      box-shadow: 0px 1px 3px 1px rgba(0, 0, 0, 0.15);\n",
              "      filter: drop-shadow(0px 1px 2px rgba(0, 0, 0, 0.3));\n",
              "      fill: #FFFFFF;\n",
              "    }\n",
              "  </style>\n",
              "\n",
              "      <script>\n",
              "        const buttonEl =\n",
              "          document.querySelector('#df-5c667f40-128d-4ae6-abf0-f95cbffcbae5 button.colab-df-convert');\n",
              "        buttonEl.style.display =\n",
              "          google.colab.kernel.accessAllowed ? 'block' : 'none';\n",
              "\n",
              "        async function convertToInteractive(key) {\n",
              "          const element = document.querySelector('#df-5c667f40-128d-4ae6-abf0-f95cbffcbae5');\n",
              "          const dataTable =\n",
              "            await google.colab.kernel.invokeFunction('convertToInteractive',\n",
              "                                                     [key], {});\n",
              "          if (!dataTable) return;\n",
              "\n",
              "          const docLinkHtml = 'Like what you see? Visit the ' +\n",
              "            '<a target=\"_blank\" href=https://colab.research.google.com/notebooks/data_table.ipynb>data table notebook</a>'\n",
              "            + ' to learn more about interactive tables.';\n",
              "          element.innerHTML = '';\n",
              "          dataTable['output_type'] = 'display_data';\n",
              "          await google.colab.output.renderOutput(dataTable, element);\n",
              "          const docLink = document.createElement('div');\n",
              "          docLink.innerHTML = docLinkHtml;\n",
              "          element.appendChild(docLink);\n",
              "        }\n",
              "      </script>\n",
              "    </div>\n",
              "  </div>\n",
              "  "
            ]
          },
          "metadata": {},
          "execution_count": 37
        }
      ]
    },
    {
      "cell_type": "code",
      "source": [
        "kenya_job_df = pd.DataFrame({\"title\":kenya_job_results})\n",
        "kenya_job_df.head()"
      ],
      "metadata": {
        "colab": {
          "base_uri": "https://localhost:8080/",
          "height": 206
        },
        "id": "MvkvwLbJod2m",
        "outputId": "8848ac19-353a-480b-a5b1-c52c59d83160"
      },
      "execution_count": 38,
      "outputs": [
        {
          "output_type": "execute_result",
          "data": {
            "text/plain": [
              "                                               title\n",
              "0                         Work from Home Opportunity\n",
              "1                                 IT Project Manager\n",
              "2                                         IT Analyst\n",
              "3          Regional Project Lead - Vendor Experience\n",
              "4  Merchant Support Specialist - Jumia Pay (Full ..."
            ],
            "text/html": [
              "\n",
              "  <div id=\"df-ec3b1952-e57f-45e8-a7a4-c2d9d099d946\">\n",
              "    <div class=\"colab-df-container\">\n",
              "      <div>\n",
              "<style scoped>\n",
              "    .dataframe tbody tr th:only-of-type {\n",
              "        vertical-align: middle;\n",
              "    }\n",
              "\n",
              "    .dataframe tbody tr th {\n",
              "        vertical-align: top;\n",
              "    }\n",
              "\n",
              "    .dataframe thead th {\n",
              "        text-align: right;\n",
              "    }\n",
              "</style>\n",
              "<table border=\"1\" class=\"dataframe\">\n",
              "  <thead>\n",
              "    <tr style=\"text-align: right;\">\n",
              "      <th></th>\n",
              "      <th>title</th>\n",
              "    </tr>\n",
              "  </thead>\n",
              "  <tbody>\n",
              "    <tr>\n",
              "      <th>0</th>\n",
              "      <td>Work from Home Opportunity</td>\n",
              "    </tr>\n",
              "    <tr>\n",
              "      <th>1</th>\n",
              "      <td>IT Project Manager</td>\n",
              "    </tr>\n",
              "    <tr>\n",
              "      <th>2</th>\n",
              "      <td>IT Analyst</td>\n",
              "    </tr>\n",
              "    <tr>\n",
              "      <th>3</th>\n",
              "      <td>Regional Project Lead - Vendor Experience</td>\n",
              "    </tr>\n",
              "    <tr>\n",
              "      <th>4</th>\n",
              "      <td>Merchant Support Specialist - Jumia Pay (Full ...</td>\n",
              "    </tr>\n",
              "  </tbody>\n",
              "</table>\n",
              "</div>\n",
              "      <button class=\"colab-df-convert\" onclick=\"convertToInteractive('df-ec3b1952-e57f-45e8-a7a4-c2d9d099d946')\"\n",
              "              title=\"Convert this dataframe to an interactive table.\"\n",
              "              style=\"display:none;\">\n",
              "        \n",
              "  <svg xmlns=\"http://www.w3.org/2000/svg\" height=\"24px\"viewBox=\"0 0 24 24\"\n",
              "       width=\"24px\">\n",
              "    <path d=\"M0 0h24v24H0V0z\" fill=\"none\"/>\n",
              "    <path d=\"M18.56 5.44l.94 2.06.94-2.06 2.06-.94-2.06-.94-.94-2.06-.94 2.06-2.06.94zm-11 1L8.5 8.5l.94-2.06 2.06-.94-2.06-.94L8.5 2.5l-.94 2.06-2.06.94zm10 10l.94 2.06.94-2.06 2.06-.94-2.06-.94-.94-2.06-.94 2.06-2.06.94z\"/><path d=\"M17.41 7.96l-1.37-1.37c-.4-.4-.92-.59-1.43-.59-.52 0-1.04.2-1.43.59L10.3 9.45l-7.72 7.72c-.78.78-.78 2.05 0 2.83L4 21.41c.39.39.9.59 1.41.59.51 0 1.02-.2 1.41-.59l7.78-7.78 2.81-2.81c.8-.78.8-2.07 0-2.86zM5.41 20L4 18.59l7.72-7.72 1.47 1.35L5.41 20z\"/>\n",
              "  </svg>\n",
              "      </button>\n",
              "      \n",
              "  <style>\n",
              "    .colab-df-container {\n",
              "      display:flex;\n",
              "      flex-wrap:wrap;\n",
              "      gap: 12px;\n",
              "    }\n",
              "\n",
              "    .colab-df-convert {\n",
              "      background-color: #E8F0FE;\n",
              "      border: none;\n",
              "      border-radius: 50%;\n",
              "      cursor: pointer;\n",
              "      display: none;\n",
              "      fill: #1967D2;\n",
              "      height: 32px;\n",
              "      padding: 0 0 0 0;\n",
              "      width: 32px;\n",
              "    }\n",
              "\n",
              "    .colab-df-convert:hover {\n",
              "      background-color: #E2EBFA;\n",
              "      box-shadow: 0px 1px 2px rgba(60, 64, 67, 0.3), 0px 1px 3px 1px rgba(60, 64, 67, 0.15);\n",
              "      fill: #174EA6;\n",
              "    }\n",
              "\n",
              "    [theme=dark] .colab-df-convert {\n",
              "      background-color: #3B4455;\n",
              "      fill: #D2E3FC;\n",
              "    }\n",
              "\n",
              "    [theme=dark] .colab-df-convert:hover {\n",
              "      background-color: #434B5C;\n",
              "      box-shadow: 0px 1px 3px 1px rgba(0, 0, 0, 0.15);\n",
              "      filter: drop-shadow(0px 1px 2px rgba(0, 0, 0, 0.3));\n",
              "      fill: #FFFFFF;\n",
              "    }\n",
              "  </style>\n",
              "\n",
              "      <script>\n",
              "        const buttonEl =\n",
              "          document.querySelector('#df-ec3b1952-e57f-45e8-a7a4-c2d9d099d946 button.colab-df-convert');\n",
              "        buttonEl.style.display =\n",
              "          google.colab.kernel.accessAllowed ? 'block' : 'none';\n",
              "\n",
              "        async function convertToInteractive(key) {\n",
              "          const element = document.querySelector('#df-ec3b1952-e57f-45e8-a7a4-c2d9d099d946');\n",
              "          const dataTable =\n",
              "            await google.colab.kernel.invokeFunction('convertToInteractive',\n",
              "                                                     [key], {});\n",
              "          if (!dataTable) return;\n",
              "\n",
              "          const docLinkHtml = 'Like what you see? Visit the ' +\n",
              "            '<a target=\"_blank\" href=https://colab.research.google.com/notebooks/data_table.ipynb>data table notebook</a>'\n",
              "            + ' to learn more about interactive tables.';\n",
              "          element.innerHTML = '';\n",
              "          dataTable['output_type'] = 'display_data';\n",
              "          await google.colab.output.renderOutput(dataTable, element);\n",
              "          const docLink = document.createElement('div');\n",
              "          docLink.innerHTML = docLinkHtml;\n",
              "          element.appendChild(docLink);\n",
              "        }\n",
              "      </script>\n",
              "    </div>\n",
              "  </div>\n",
              "  "
            ]
          },
          "metadata": {},
          "execution_count": 38
        }
      ]
    }
  ]
}